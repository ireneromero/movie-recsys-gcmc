{
 "cells": [
  {
   "cell_type": "code",
   "execution_count": 8,
   "metadata": {},
   "outputs": [],
   "source": [
    "import pandas as pd\n",
    "import matplotlib.pyplot as plt"
   ]
  },
  {
   "cell_type": "code",
   "execution_count": 5,
   "metadata": {},
   "outputs": [],
   "source": [
    "from py2neo import Graph\n",
    "import json\n",
    "\n",
    "CONNECTION_BOLT_URL_NAME = 'bolt_url'\n",
    "CONNECTION_PASSWORD_NAME = 'password'\n",
    "PATH_CONNECTION = '/home/irene/dev/movie-recsys-gcmc/env/neo4j_connection.json'\n",
    "\n",
    "def connect(bolt_url: str, password: str) -> Graph:\n",
    "    graph = Graph(bolt_url, auth=('neo4j', password))\n",
    "    return graph\n",
    "\n",
    "def connect_from_file(path_file: str) -> Graph:\n",
    "    with open(path_file) as connection_file:\n",
    "        connection_details = json.load(connection_file)\n",
    "        return connect(connection_details[CONNECTION_BOLT_URL_NAME], connection_details[CONNECTION_PASSWORD_NAME])\n",
    "\n",
    "def query_graph(graph: Graph, query: str):\n",
    "    return graph.run(query)\n",
    "\n",
    "graph = connect_from_file(PATH_CONNECTION)"
   ]
  },
  {
   "cell_type": "code",
   "execution_count": 9,
   "metadata": {},
   "outputs": [],
   "source": [
    "def reviews_per_user(graph: Graph) -> pd.DataFrame:\n",
    "    query = \"\"\"\n",
    "    MATCH (u:User)--(m:Movie)\n",
    "    WITH u.userId as user, collect(m.title) as movies_rated\n",
    "    RETURN user, count(movies_rated) as num_movies_rated\n",
    "    \"\"\"\n",
    "    result = query_graph(graph, query).to_data_frame()\n",
    "    return result"
   ]
  },
  {
   "cell_type": "code",
   "execution_count": 11,
   "metadata": {},
   "outputs": [],
   "source": [
    "res = reviews_per_user(graph)"
   ]
  },
  {
   "cell_type": "code",
   "execution_count": 14,
   "metadata": {},
   "outputs": [
    {
     "data": {
      "text/plain": [
       "array([1])"
      ]
     },
     "execution_count": 14,
     "metadata": {},
     "output_type": "execute_result"
    }
   ],
   "source": [
    "res['num_movies_rated'].unique()"
   ]
  }
 ],
 "metadata": {
  "kernelspec": {
   "display_name": "Python 3",
   "language": "python",
   "name": "python3"
  },
  "language_info": {
   "codemirror_mode": {
    "name": "ipython",
    "version": 3
   },
   "file_extension": ".py",
   "mimetype": "text/x-python",
   "name": "python",
   "nbconvert_exporter": "python",
   "pygments_lexer": "ipython3",
   "version": "3.7.6"
  }
 },
 "nbformat": 4,
 "nbformat_minor": 4
}
